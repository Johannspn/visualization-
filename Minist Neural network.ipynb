{
  "nbformat": 4,
  "nbformat_minor": 0,
  "metadata": {
    "kernelspec": {
      "name": "python3",
      "display_name": "Python 3"
    },
    "language_info": {
      "codemirror_mode": {
        "name": "ipython",
        "version": 3
      },
      "file_extension": ".py",
      "mimetype": "text/x-python",
      "name": "python",
      "nbconvert_exporter": "python",
      "pygments_lexer": "ipython3",
      "version": "3.7.1"
    },
    "colab": {
      "name": "NN for several image.ipynb",
      "provenance": [],
      "collapsed_sections": []
    },
    "accelerator": "GPU"
  },
  "cells": [
    {
      "cell_type": "code",
      "metadata": {
        "id": "hRrKQLBIa1vF",
        "colab_type": "code",
        "outputId": "ff23596c-eb08-415b-efb4-8ed5bdad4970",
        "colab": {
          "base_uri": "https://localhost:8080/",
          "height": 182
        }
      },
      "source": [
        "#### Libraries\n",
        "# Standard library\n",
        "import random\n",
        "import numpy as np\n",
        "import sys\n",
        "import time\n",
        "import numpy as np\n",
        "from random import seed\n",
        "from sklearn.preprocessing import StandardScaler\n",
        "from keras.datasets import mnist\n",
        "from matplotlib import pyplot as plt\n",
        "\n",
        "(x_train, y_train), (x_test, y_test) = mnist.load_data()\n",
        "X_scale = StandardScaler()\n",
        "train=[]\n",
        "test=[]\n",
        "\n",
        "for i in range(60000):\n",
        "    inpx=np.zeros(shape=(28, 28))\n",
        "    inpy=np.zeros(shape=(10 , 1))\n",
        "    \n",
        "    f=X_scale.fit_transform(x_train[i])\n",
        "    inpx=f.reshape(784,1)\n",
        "    inpy[y_train[i]]=1\n",
        "    train.append((inpx, inpy))\n",
        "    \n",
        "for i in range(10000):\n",
        "    inpx=np.zeros(shape=(28, 28))\n",
        "    #inpy=np.zeros(shape=(10 , 1))\n",
        "    \n",
        "    f=X_scale.fit_transform(x_test[i])\n",
        "    inpx=f.reshape(784,1)\n",
        "    test.append((inpx, y_test[i]))    \n",
        "\n",
        "#number of hidden lyer nuerons\n",
        "hl=50\n",
        "#learning rate\n",
        "lr=0.2\n",
        "#number of Epochs\n",
        "epn=50\n",
        "\n",
        "net=[784, hl, 10]\n",
        "\n",
        "l=len(net)-1\n",
        "\n",
        "\n",
        "\n",
        "#making neural network and initialization \n",
        "#l\n",
        "\n",
        "w=[]\n",
        "b=[]\n",
        "dw=[]\n",
        "db=[]\n",
        "for i in range(l):\n",
        "    w.append(np.random.randn(net[i+1],net[i]))\n",
        "    b.append(np.random.randn(net[i+1],1))\n",
        "    dw.append(np.zeros(shape=(net[i+1],net[i])))\n",
        "    db.append(np.zeros(shape=(net[i+1],1)))\n",
        "\n",
        "#neural network functions\n",
        "def forward(inp):\n",
        "    forwardResult=[]\n",
        "    #forwardResult.append(inp)\n",
        "    forwardResult.append(sigmoid(np.dot(w[0],inp)+b[0]))\n",
        "    for i in range(1,l):\n",
        "        #print(i)\n",
        "        forwardResult.append(sigmoid(np.dot(w[i],forwardResult[i-1] )+b[i]))\n",
        "    return forwardResult\n",
        "\n",
        "def bp(inp, fr, outp):\n",
        "    er=outp-fr[l-1]\n",
        "    for i in range(l-1,-1,-1):\n",
        "        if(i==0):\n",
        "            delta=er*sp(fr[i])\n",
        "            db[i]=delta\n",
        "            dw[i]=np.dot(delta, inp.T)\n",
        "        else:\n",
        "            delta=er*sp(fr[i])\n",
        "            db[i]=delta\n",
        "            dw[i]=np.dot(delta, fr[i-1].T)\n",
        "            er=np.dot(w[i].T, delta)\n",
        "def update():\n",
        "    for i in range(l):\n",
        "        w[i]=w[i]+(lr*dw[i])\n",
        "        b[i]=b[i]+(lr*db[i])\n",
        "\n",
        "def predict(inp):\n",
        "    result=forward(inp)\n",
        "    return result.argmax()\n",
        "    \n",
        "def model_acc(test):\n",
        "    Tr=0\n",
        "    Fal=0\n",
        "    for i in range(len(test)):\n",
        "        fr=forward(test[i][0])\n",
        "        if(fr[1].argmax()==test[i][1]):\n",
        "            Tr+=1\n",
        "        else:\n",
        "            Fal+=1\n",
        "    acc=100*Tr/(Tr+Fal)\n",
        "    return acc\n",
        "\n",
        "def sp(z):\n",
        "    return (z)*(1-(z))\n",
        "\n",
        "def sigmoid(z):\n",
        "    \"\"\"The sigmoid function.\"\"\"\n",
        "    return 1.0/(1.0+np.exp(-z))\n",
        "def model_training(tr, ep):\n",
        "    print(\"epoch : \")\n",
        "    #print(len(tr[0]))\n",
        "    for j in range(ep):\n",
        "        sys.stdout.write(\"\\r{0}\".format(j+1))\n",
        "        np.random.shuffle(tr)\n",
        "        for i in range(len(tr)):\n",
        "            fr=forward(tr[i][0])\n",
        "            bp(tr[i][0], fr, tr[i][1])\n",
        "            update()  \n",
        "    print(\"\\nend of training\")\n",
        "\n",
        "model_training(train, epn)\n",
        "\n",
        "print(\"model acc= \",model_acc(test))\n",
        "\n"
      ],
      "execution_count": 0,
      "outputs": [
        {
          "output_type": "stream",
          "text": [
            "Using TensorFlow backend.\n"
          ],
          "name": "stderr"
        },
        {
          "output_type": "display_data",
          "data": {
            "text/html": [
              "<p style=\"color: red;\">\n",
              "The default version of TensorFlow in Colab will soon switch to TensorFlow 2.x.<br>\n",
              "We recommend you <a href=\"https://www.tensorflow.org/guide/migrate\" target=\"_blank\">upgrade</a> now \n",
              "or ensure your notebook will continue to use TensorFlow 1.x via the <code>%tensorflow_version 1.x</code> magic:\n",
              "<a href=\"https://colab.research.google.com/notebooks/tensorflow_version.ipynb\" target=\"_blank\">more info</a>.</p>\n"
            ],
            "text/plain": [
              "<IPython.core.display.HTML object>"
            ]
          },
          "metadata": {
            "tags": []
          }
        },
        {
          "output_type": "stream",
          "text": [
            "Downloading data from https://s3.amazonaws.com/img-datasets/mnist.npz\n",
            "11493376/11490434 [==============================] - 1s 0us/step\n",
            "epoch : \n",
            "50\n",
            "end of training\n",
            "94.51\n"
          ],
          "name": "stdout"
        }
      ]
    }
  ]
}